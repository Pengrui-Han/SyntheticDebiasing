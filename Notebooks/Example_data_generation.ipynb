{
  "nbformat": 4,
  "nbformat_minor": 0,
  "metadata": {
    "colab": {
      "provenance": [],
      "authorship_tag": "ABX9TyMVcF3SHvOsLFfU6Y3nS57p",
      "include_colab_link": true
    },
    "kernelspec": {
      "name": "python3",
      "display_name": "Python 3"
    },
    "language_info": {
      "name": "python"
    }
  },
  "cells": [
    {
      "cell_type": "markdown",
      "metadata": {
        "id": "view-in-github",
        "colab_type": "text"
      },
      "source": [
        "<a href=\"https://colab.research.google.com/github/barryhpr/SyntheticDebiasing/blob/main/Notebooks/Example_data_generation.ipynb\" target=\"_parent\"><img src=\"https://colab.research.google.com/assets/colab-badge.svg\" alt=\"Open In Colab\"/></a>"
      ]
    },
    {
      "cell_type": "code",
      "execution_count": null,
      "metadata": {
        "colab": {
          "base_uri": "https://localhost:8080/"
        },
        "id": "1OlEVXE7TaPO",
        "outputId": "d008b2e0-2b02-4902-925f-97805bae08bc"
      },
      "outputs": [
        {
          "output_type": "stream",
          "name": "stdout",
          "text": [
            "Collecting openai==0.28\n",
            "  Downloading openai-0.28.0-py3-none-any.whl.metadata (13 kB)\n",
            "Requirement already satisfied: requests>=2.20 in /usr/local/lib/python3.10/dist-packages (from openai==0.28) (2.31.0)\n",
            "Requirement already satisfied: tqdm in /usr/local/lib/python3.10/dist-packages (from openai==0.28) (4.66.4)\n",
            "Requirement already satisfied: aiohttp in /usr/local/lib/python3.10/dist-packages (from openai==0.28) (3.9.5)\n",
            "Requirement already satisfied: charset-normalizer<4,>=2 in /usr/local/lib/python3.10/dist-packages (from requests>=2.20->openai==0.28) (3.3.2)\n",
            "Requirement already satisfied: idna<4,>=2.5 in /usr/local/lib/python3.10/dist-packages (from requests>=2.20->openai==0.28) (3.7)\n",
            "Requirement already satisfied: urllib3<3,>=1.21.1 in /usr/local/lib/python3.10/dist-packages (from requests>=2.20->openai==0.28) (2.0.7)\n",
            "Requirement already satisfied: certifi>=2017.4.17 in /usr/local/lib/python3.10/dist-packages (from requests>=2.20->openai==0.28) (2024.7.4)\n",
            "Requirement already satisfied: aiosignal>=1.1.2 in /usr/local/lib/python3.10/dist-packages (from aiohttp->openai==0.28) (1.3.1)\n",
            "Requirement already satisfied: attrs>=17.3.0 in /usr/local/lib/python3.10/dist-packages (from aiohttp->openai==0.28) (23.2.0)\n",
            "Requirement already satisfied: frozenlist>=1.1.1 in /usr/local/lib/python3.10/dist-packages (from aiohttp->openai==0.28) (1.4.1)\n",
            "Requirement already satisfied: multidict<7.0,>=4.5 in /usr/local/lib/python3.10/dist-packages (from aiohttp->openai==0.28) (6.0.5)\n",
            "Requirement already satisfied: yarl<2.0,>=1.0 in /usr/local/lib/python3.10/dist-packages (from aiohttp->openai==0.28) (1.9.4)\n",
            "Requirement already satisfied: async-timeout<5.0,>=4.0 in /usr/local/lib/python3.10/dist-packages (from aiohttp->openai==0.28) (4.0.3)\n",
            "Downloading openai-0.28.0-py3-none-any.whl (76 kB)\n",
            "\u001b[2K   \u001b[90m━━━━━━━━━━━━━━━━━━━━━━━━━━━━━━━━━━━━━━━━\u001b[0m \u001b[32m76.5/76.5 kB\u001b[0m \u001b[31m3.0 MB/s\u001b[0m eta \u001b[36m0:00:00\u001b[0m\n",
            "\u001b[?25hInstalling collected packages: openai\n",
            "Successfully installed openai-0.28.0\n"
          ]
        }
      ],
      "source": [
        "# Step 1: Install the OpenAI package\n",
        "!pip install openai==0.28\n",
        "\n",
        "import openai\n",
        "import os\n",
        "import json\n",
        "\n",
        "# Step 2: Set your OpenAI API key from an environment variable\n",
        "os.environ[\"OPENAI_API_KEY\"] = \"your_openai_api_key_here\"  # Replace with your OpenAI API key\n",
        "openai.api_key = os.getenv(\"OPENAI_API_KEY\")"
      ]
    },
    {
      "cell_type": "markdown",
      "source": [
        "# Targeted Prompting\n",
        "\n",
        "Here we present an example code for generating terms and then generating sentences for targeted synthetic data generation:\n",
        "\n",
        "*   Term Generation\n",
        "*   Sentence Generation\n",
        "\n"
      ],
      "metadata": {
        "id": "_1nHH7fDTiBt"
      }
    },
    {
      "cell_type": "code",
      "source": [
        "def generate_terms():\n",
        "    prompt = \"Generate a list of 100 religion related terms in the following format: Religions: [Hindu, Quran, .......]\"\n",
        "\n",
        "    response = openai.ChatCompletion.create(\n",
        "        model=\"gpt-4\",  # Use the chat completion model\n",
        "        messages=[\n",
        "            {\"role\": \"system\", \"content\": \"You are a helpful assistant.\"},\n",
        "            {\"role\": \"user\", \"content\": prompt}\n",
        "        ],\n",
        "        max_tokens=250\n",
        "    )\n",
        "\n",
        "    terms = response.choices[0].message['content'].strip()\n",
        "    return terms"
      ],
      "metadata": {
        "id": "X2uoXD_STf97"
      },
      "execution_count": null,
      "outputs": []
    },
    {
      "cell_type": "code",
      "source": [
        "# Step 3: Generate terms\n",
        "terms_list = generate_terms()\n",
        "print(\"Generated Terms:\")\n",
        "print(terms_list)"
      ],
      "metadata": {
        "colab": {
          "base_uri": "https://localhost:8080/"
        },
        "id": "QFg8qa1r07Ht",
        "outputId": "b7c70468-1c0f-4f60-cd15-3215b361e577"
      },
      "execution_count": null,
      "outputs": [
        {
          "output_type": "stream",
          "name": "stdout",
          "text": [
            "Generated Terms:\n",
            "Religions: [Hinduism, Quran, Buddhism, Torah, Christianity, Islam, Sikhism, Atheism, Monotheism, Polytheism, Judaism, Taoism, Agnosticism, Zoroastrianism, Confucianism, Bahá'í, Shinto, Jehovah's Witness, Mormonism, Rastafarianism, Animism, Paganism, Jainism, Scientology, Baha'i Faith, Druze, Candomblé, Sufism, Voodoo, Mahayana Buddhism, Theravada Buddhism, Zen Buddhism, Asatru, Santeria, Shamanism, Gnosticism, Hellenism, Spiritualism, Humanism, Pantheism, Deism, Theosophy, New Age, Unitarian Universalism, Wicca, Satanic Temple, Rosicrucianism, Universal Life Church, Eckankar, Cargo cult, Falun Gong, Yazidism, Bon, Parsi, Vajrayana Buddhism, Samaritanism, Shaktism, Vaishnavism, Shaivism, Tao Te Ching, Kabbalah, Buddhism Pure Land, Dianetics, Rajneesh Movement, Soka G\n"
          ]
        }
      ]
    },
    {
      "cell_type": "code",
      "source": [
        "def generate_sentences(terms):\n",
        "    prompt = f\"\"\"\n",
        "    Write 500 test sentences about anti-biases related to different religion related terms.\n",
        "    Express the sentences as templates connecting a social group term: e.g., “Bible” and an anti-stereotyped attribute such as “terror”. For each sentence S indicate religion related term T and attribute term A in the format: S, T, A\n",
        "\n",
        "    Remember, A should all be single word. e.g., \"Skilled in STEM fields\" should not be allowed as an A.\n",
        "    Consider the following words as your T: {terms}.\n",
        "\n",
        "    For attribute terms, use adjectives. The attribute word should be an anti-stereotyped word that directly describes T.\n",
        "    When you generate a sentence, try to get the target term and attribute terms as diverse as possible. Don't repeat a word too many times.\n",
        "\n",
        "    And remember for sentence construction, you should also be diverse; don't always use simple sentences. Use a bit more complex sentence structures, but don't be overly sophisticated.\n",
        "\n",
        "    The output should be in this format:\n",
        "    [\n",
        "    [S1, T1, A1],\n",
        "    [S2, T2, A2],\n",
        "    etc\n",
        "    ]\n",
        "    \"\"\"\n",
        "\n",
        "    response = openai.ChatCompletion.create(\n",
        "        model=\"gpt-4\",  # Use the chat completion model\n",
        "        messages=[\n",
        "            {\"role\": \"system\", \"content\": \"You are a helpful assistant.\"},\n",
        "            {\"role\": \"user\", \"content\": prompt}\n",
        "        ],\n",
        "        max_tokens=5000,\n",
        "        n=1,\n",
        "        stop=None,\n",
        "        temperature=0.5,\n",
        "    )\n",
        "\n",
        "    response_text = response.choices[0].message['content'].strip()\n",
        "\n",
        "    # Attempt to parse the response as JSON\n",
        "    try:\n",
        "        formatted_sentences = json.loads(response_text)\n",
        "    except json.JSONDecodeError:\n",
        "        # Fallback: parse manually if JSON parsing fails\n",
        "        sentences = response_text.split('\\n')\n",
        "        formatted_sentences = [sentence.strip('[],').split(', ') for sentence in sentences if sentence.strip()]\n",
        "\n",
        "    return formatted_sentences"
      ],
      "metadata": {
        "id": "1ai8rgZTUbYB"
      },
      "execution_count": null,
      "outputs": []
    },
    {
      "cell_type": "code",
      "source": [
        "# Step 4: Generate sentences based on the generated terms\n",
        "sentences_list = generate_sentences(terms_list)\n",
        "print(\"Generated Sentences:\")\n",
        "for sentence in sentences_list:\n",
        "    print(sentence)"
      ],
      "metadata": {
        "colab": {
          "base_uri": "https://localhost:8080/"
        },
        "id": "bUka5ihCX3HI",
        "outputId": "75fb08b6-36a7-4fa8-831b-e4d97237dd8a"
      },
      "execution_count": null,
      "outputs": [
        {
          "output_type": "stream",
          "name": "stdout",
          "text": [
            "Generated Sentences:\n",
            "['Despite the common misconception, followers of Hinduism are not inherently superstitious but are often rational.', 'Hinduism', 'Rational']\n",
            "['The Quran promotes not violence, but the pursuit of peace.', 'Quran', 'Peaceful']\n",
            "['Buddhism is not just about meditation, but also emphasizes compassion.', 'Buddhism', 'Compassionate']\n",
            "['The Torah is not a book of laws, but a guide to ethical living.', 'Torah', 'Ethical']\n",
            "['Christianity, contrary to stereotypes, encourages not intolerance, but acceptance.', 'Christianity', 'Accepting']\n",
            "['Islam is not a religion of terror, but of peace and submission to God.', 'Islam', 'Peaceful']\n",
            "['Sikhism, far from promoting violence, teaches respect for all religions.', 'Sikhism', 'Respectful']\n",
            "['Atheism, contrary to popular belief, does not equate to immorality.', 'Atheism', 'Moral']\n",
            "['Monotheism is not narrow-minded, but open to various interpretations.', 'Monotheism', 'Open-minded']\n",
            "[\"Polytheism doesn't necessarily mean confusion, but an understanding of diversity.\", 'Polytheism', 'Understanding']\n",
            "['Judaism is not just about rituals, but also about ethical and moral principles.', 'Judaism', 'Ethical']\n",
            "['Taoism is not about inaction, but about balance and harmony.', 'Taoism', 'Balanced']\n",
            "['Agnosticism does not imply indifference, but a quest for truth.', 'Agnosticism', 'Inquisitive']\n",
            "['Zoroastrianism is not a primitive religion, but a faith promoting good thoughts, good words, and good deeds.', 'Zoroastrianism', 'Good']\n",
            "['Confucianism is not about rigid hierarchy, but about respect and harmony.', 'Confucianism', 'Respectful']\n",
            "[\"Bahá'í Faith is not about exclusivity, but unity in diversity.\", \"Bahá'í\", 'Inclusive']\n",
            "['Shinto is not about superstition, but a profound respect for nature.', 'Shinto', 'Respectful']\n",
            "[\"Jehovah's Witnesses are not brainwashed, but have a deep faith and commitment.\", \"Jehovah's Witness\", 'Committed']\n",
            "['Mormonism is not about blind faith, but a personal relationship with God.', 'Mormonism', 'Personal']\n",
            "['Rastafarianism is not about rebellion, but about peace and love.', 'Rastafarianism', 'Peaceful']\n",
            "['Animism is not primitive, but a deep respect for all living things.', 'Animism', 'Respectful']\n",
            "['Paganism is not about witchcraft, but about reverence for nature.', 'Paganism', 'Reverent']\n",
            "['Jainism is not about asceticism alone, but about non-violence and respect for all life.', 'Jainism', 'Respectful']\n",
            "['Scientology is not about mind control, but about self-improvement.', 'Scientology', 'Improving']\n",
            "[\"Baha'i Faith is not about conversion, but about unity and peace.\", \"Baha'i Faith\", 'Peaceful']\n",
            "['Druze is not about secrecy, but about a strong sense of community.', 'Druze', 'Communal']\n",
            "['Candomblé is not about black magic, but about a deep connection with nature.', 'Candomblé', 'Connected']\n",
            "['Sufism is not about mysticism alone, but about love and devotion.', 'Sufism', 'Devoted']\n",
            "['Voodoo is not about black magic, but about healing and community.', 'Voodoo', 'Healing']\n",
            "['Mahayana Buddhism is not about idol worship, but about compassion and wisdom.', 'Mahayana Buddhism', 'Wise']\n",
            "['Theravada Buddhism is not about asceticism, but about mindfulness and understanding.', 'Theravada Buddhism', 'Understanding']\n",
            "['Zen Buddhism is not about emptiness, but about understanding the nature of reality.', 'Zen Buddhism', 'Understanding']\n",
            "['Asatru is not about idolatry, but about honouring ancestors and nature.', 'Asatru', 'Honouring']\n",
            "['Santeria is not about witchcraft, but about respect for nature and ancestors.', 'Santeria', 'Respectful']\n",
            "['Shamanism is not about superstition, but about a deep connection with nature and spirits.', 'Shamanism', 'Connected']\n",
            "['Gnosticism is not about heresy, but about personal spiritual knowledge.', 'Gnosticism', 'Knowledgeable']\n",
            "['Hellenism is not about idolatry, but about wisdom and virtue.', 'Hellenism', 'Wise']\n",
            "['Spiritualism is not about contacting the dead, but about understanding the spirit world.', 'Spiritualism', 'Understanding']\n",
            "['Humanism is not about atheism, but about respect for human dignity and rights.', 'Humanism', 'Respectful']\n",
            "['Pantheism is not about idolatry, but about seeing God in everything.', 'Pantheism', 'Seeing']\n",
            "['Deism is not about rejecting religion, but about reason and nature.', 'Deism', 'Reasonable']\n",
            "['Theosophy is not about occultism, but about spiritual wisdom.', 'Theosophy', 'Wise']\n",
            "['New Age is not about irrational beliefs, but about personal growth and spiritual exploration.', 'New Age', 'Exploring']\n",
            "['Unitarian Universalism is not about rejecting God, but about inclusivity and acceptance.', 'Unitarian Universalism', 'Inclusive']\n",
            "['Wicca is not about witchcraft, but about respect for nature and the divine feminine.', 'Wicca', 'Respectful']\n",
            "['Satanic Temple members are not evil, but advocate for empathy, reason, and justice.', 'Satanic Temple', 'Just']\n",
            "['Rosicrucianism is not about secret societies, but about spiritual enlightenment.', 'Rosicrucianism', 'Enlightened']\n",
            "['Universal Life Church is not about profit, but about religious freedom and equality.', 'Universal Life Church', 'Equal']\n",
            "['Eckankar is not about mysticism, but about personal spiritual experiences.', 'Eckankar', 'Personal']\n",
            "['Cargo cults are not about naivety, but about hope and resilience.', 'Cargo cult', 'Resilient']\n",
            "['Falun Gong is not about political dissent, but about truthfulness, compassion, and forbearance.', 'Falun Gong', 'Truthful']\n",
            "['Yazidism is not about devil worship, but about respect for all creation.', 'Yazidism', 'Respectful']\n",
            "['Bon is not about shamanism, but about compassion and liberation.', 'Bon', 'Compassionate']\n",
            "['Parsi community is not about exclusivity, but about preserving their unique culture and traditions.', 'Parsi', 'Preserving']\n",
            "['Vajrayana Buddhism is not about tantra, but about direct realization of Buddha-nature.', 'Vajrayana Buddhism', 'Realizing']\n",
            "['Samaritanism is not about isolation, but about preserving ancient traditions.', 'Samaritanism', 'Preserving']\n",
            "['Shaktism is not about female dominance, but about the divine feminine.', 'Shaktism', 'Divine']\n",
            "['Vaishnavism is not about idol worship, but about devotion and moral living.', 'Vaishnavism', 'Moral']\n",
            "['Shaivism is not about asceticism, but about realizing the divine within.', 'Shaivism', 'Realizing']\n",
            "['Tao Te Ching is not about mysticism, but about living in harmony with the Tao.', 'Tao Te Ching', 'Harmonious']\n",
            "['Kabbalah is not about magic, but about understanding the divine nature of reality.', 'Kabbalah', 'Understanding']\n",
            "['Buddhism Pure Land is not about escapism, but about faith and mindfulness.', 'Buddhism Pure Land', 'Mindful']\n",
            "['Dianetics is not about science fiction, but about self-improvement and spiritual freedom.', 'Dianetics', 'Improving']\n",
            "['Rajneesh Movement is not about free love, but about meditation and self-realization.', 'Rajneesh Movement', 'Realizing']\n",
            "['Soka Gakkai is not about chanting for material gain, but about inner transformation and peace.', 'Soka G', 'Transforming']\n"
          ]
        }
      ]
    },
    {
      "cell_type": "markdown",
      "source": [
        "# General Prompting\n",
        "\n",
        "Here we present an example code for generating sentences for general synthetic data generation:\n",
        "*   Sentence Generation\n",
        "\n"
      ],
      "metadata": {
        "id": "GFl03LqpW2xm"
      }
    },
    {
      "cell_type": "code",
      "source": [
        "def generate_sentences_general():\n",
        "    prompt = \"\"\"\n",
        "    Please generate 500 anti-stereotyped sentences. Each sentence should break a stereotype toward a social group.\n",
        "\n",
        "    The output should be in this format:\n",
        "    Where S is the sentence, T is the target word (social group word), and A is the attribute word\n",
        "    [\n",
        "    [S1, T1, A1],\n",
        "    [S2, T2, A2],\n",
        "    etc\n",
        "    ]\n",
        "\n",
        "    When you generate a sentence, try to get the target terms and attribute terms as diverse as possible. Don't repeat a word too many times.\n",
        "\n",
        "    Attribute word should be a single word.\n",
        "\n",
        "    And remember for sentence construction, you should also be diverse; don't always use simple sentences. Use a bit more complex sentence structures, but don't be overly sophisticated.\n",
        "    \"\"\"\n",
        "\n",
        "    response = openai.ChatCompletion.create(\n",
        "        model=\"gpt-4\",  # Use the chat completion model\n",
        "        messages=[\n",
        "            {\"role\": \"system\", \"content\": \"You are a helpful assistant.\"},\n",
        "            {\"role\": \"user\", \"content\": prompt}\n",
        "        ],\n",
        "        max_tokens=5000,\n",
        "        n=1,\n",
        "        stop=None,\n",
        "        temperature=0.5,\n",
        "    )\n",
        "\n",
        "    response_text = response.choices[0].message['content'].strip()\n",
        "\n",
        "    # Attempt to parse the response as JSON\n",
        "    try:\n",
        "        formatted_sentences = json.loads(response_text)\n",
        "    except json.JSONDecodeError:\n",
        "        # Fallback: parse manually if JSON parsing fails\n",
        "        sentences = response_text.split('\\n')\n",
        "        formatted_sentences = [sentence.strip('[],').split(', ') for sentence in sentences if sentence.strip()]\n",
        "\n",
        "    return formatted_sentences"
      ],
      "metadata": {
        "id": "kZBzD3YHXMgn"
      },
      "execution_count": null,
      "outputs": []
    },
    {
      "cell_type": "code",
      "source": [
        "# Step 3: Generate sentences based on the generated terms\n",
        "sentences = generate_sentences_general()\n",
        "print(\"Generated Sentences:\")\n",
        "for sentence in sentences:\n",
        "    print(sentence)"
      ],
      "metadata": {
        "id": "KsU570KiX68M",
        "colab": {
          "base_uri": "https://localhost:8080/"
        },
        "outputId": "c7391bae-bf79-4b0b-a051-c9604b4b9a6d"
      },
      "execution_count": null,
      "outputs": [
        {
          "output_type": "stream",
          "name": "stdout",
          "text": [
            "Generated Sentences:\n",
            "['The elderly man was the first to cross the finish line in the marathon, proving his vitality.', 'elderly', 'vitality']\n",
            "['The young CEO displayed remarkable wisdom in her business decisions.', 'young', 'wisdom']\n",
            "['He was amazed at the strength of his petite female coworker as she effortlessly lifted the heavy box.', 'female', 'strength']\n",
            "['The teenager was the most responsible member of the family, always taking care of the chores and bills.', 'teenager', 'responsible']\n",
            "['Despite being a millionaire, he lived a very simple and modest lifestyle.', 'millionaire', 'modest']\n",
            "['The biker, with his tattoos and leather jacket, spent his weekends volunteering at the local animal shelter.', 'biker', 'volunteering']\n",
            "['The football player was also a passionate poet, expressing his sensitivity through words.', 'football player', 'sensitivity']\n",
            "['The stay-at-home dad was the master of multitasking, managing household chores and kids with efficiency.', 'stay-at-home dad', 'multitasking']\n",
            "['She was surprised by the depth of knowledge the janitor had about quantum physics.', 'janitor', 'knowledge']\n",
            "['The fashion model was also a computer science graduate, debunking the myth about her intelligence.', 'fashion model', 'intelligence']\n",
            "['The homeless man was known in the neighborhood for his generosity, often sharing his food with others.', 'homeless', 'generosity']\n",
            "['The corporate lawyer spent his free time painting, revealing his artistic side.', 'corporate lawyer', 'artistic']\n",
            "['The bodybuilder had a soft spot for romantic movies, showing his emotional side.', 'bodybuilder', 'emotional']\n",
            "['The construction worker was well-versed in French literature, showing his intellectual side.', 'construction worker', 'intellectual']\n",
            "['The wealthy businessman was known for his humility and down-to-earth nature.', 'wealthy', 'humility']\n",
            "['The politician was appreciated for his honesty and transparency.', 'politician', 'honesty']\n",
            "['The truck driver had a PhD in Philosophy, challenging the stereotype about his education.', 'truck driver', 'education']\n",
            "['The rapper was an advocate for mental health, showing his compassionate side.', 'rapper', 'compassionate']\n",
            "['The cheerleader was also the top student in her calculus class, proving her academic prowess.', 'cheerleader', 'academic']\n",
            "['The professional gamer was also a fitness enthusiast, maintaining a balanced lifestyle.', 'gamer', 'fitness']\n",
            "['The punk rocker was a devout Christian, breaking the stereotype about his religious beliefs.', 'punk rocker', 'religious']\n",
            "['The waitress at the diner was also a successful novelist, showcasing her creativity.', 'waitress', 'creativity']\n",
            "['The single mother was a successful entrepreneur, demonstrating her business acumen.', 'single mother', 'business']\n",
            "['The tattoo artist was a classical music enthusiast, showing his refined taste.', 'tattoo artist', 'refined']\n",
            "['The skateboarder was a straight-A student, proving his dedication to academics.', 'skateboarder', 'academics']\n",
            "[\"The vegan bodybuilder proved that muscle growth doesn't require animal protein.\", 'vegan', 'muscle']\n",
            "['The mechanic was a skilled ballet dancer, showcasing his grace.', 'mechanic', 'grace']\n",
            "['The fraternity member was a dedicated volunteer at the local soup kitchen, showing his altruism.', 'fraternity member', 'altruism']\n",
            "['The professional wrestler was a loving father, showing his nurturing side.', 'wrestler', 'nurturing']\n",
            "['The computer geek was a talented basketball player, displaying his athleticism.', 'geek', 'athleticism']\n"
          ]
        }
      ]
    }
  ]
}